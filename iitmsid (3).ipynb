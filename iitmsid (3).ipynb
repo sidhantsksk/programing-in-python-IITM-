{
 "cells": [
  {
   "cell_type": "raw",
   "id": "0fb508dd-8d09-4340-8a74-6554db8aa291",
   "metadata": {},
   "source": [
    "linkedin = https://www.linkedin.com/in/sidhant-kumar-7a2889258/\n",
    "github=  https://github.com/sidhantsksk"
   ]
  },
  {
   "cell_type": "markdown",
   "id": "af415da3-79da-4eaa-87dd-0ce77e6c34fe",
   "metadata": {},
   "source": [
    "This notebook is my personal python notes\n",
    "and is made  according to the sallybus of IITM BS Python course \n",
    "extras include  the built in functions which are not needed its attached just for the refrence"
   ]
  },
  {
   "cell_type": "markdown",
   "id": "1c6f6d9f-c57e-44a5-8ba6-b83158ff1cca",
   "metadata": {},
   "source": [
    "note- To run a particular block of code select the block of code and click run or ▶️ button "
   ]
  },
  {
   "cell_type": "markdown",
   "id": "18c45a2d-a20b-4d02-8cf3-1e325e0d31e7",
   "metadata": {},
   "source": [
    "-----------------------------------------------------------variable are containers to store data---------------------------------------------------------"
   ]
  },
  {
   "cell_type": "code",
   "execution_count": 3,
   "id": "b1977fab-df63-44ad-847a-5eba0d22ebd2",
   "metadata": {},
   "outputs": [
    {
     "name": "stdout",
     "output_type": "stream",
     "text": [
      "5\n",
      "sid\n",
      "iitm\n",
      "71.2\n",
      "this is how u add space between two words\n"
     ]
    }
   ],
   "source": [
    "a=5\n",
    "b=\"sid\"\n",
    "c='iitm'\n",
    "d=71.2\n",
    "adding_space=\"this is how u add space between two words\"\n",
    "print(a)\n",
    "print(b)\n",
    "print(c)\n",
    "print(d)\n",
    "print(adding_space)"
   ]
  },
  {
   "cell_type": "markdown",
   "id": "2fa06d1b-180f-423f-9378-b8d45297957f",
   "metadata": {},
   "source": [
    "-----------------------------------------------------------------Print Function--------------------------------------------------------------------------"
   ]
  },
  {
   "cell_type": "code",
   "execution_count": 20,
   "id": "b345ea6e-6674-4926-bcb5-1497bb701eb9",
   "metadata": {
    "scrolled": true
   },
   "outputs": [
    {
     "name": "stdout",
     "output_type": "stream",
     "text": [
      "90\n",
      "hello\n"
     ]
    }
   ],
   "source": [
    "hello=90\n",
    "print(hello)  #this will print  value hello is storing\n",
    "print(\"hello\")  #this will print hello as its quoted "
   ]
  },
  {
   "cell_type": "markdown",
   "id": "a8a9952a-63c0-4054-a489-f71e160978cc",
   "metadata": {},
   "source": [
    "----------------------------------------------------------Input Function---------------------------------------------------------------------------------"
   ]
  },
  {
   "cell_type": "code",
   "execution_count": 17,
   "id": "3215f70d-0d6c-41ee-9570-eb89bf282f00",
   "metadata": {},
   "outputs": [
    {
     "name": "stdin",
     "output_type": "stream",
     "text": [
      "enter number to take input 5\n"
     ]
    },
    {
     "name": "stdout",
     "output_type": "stream",
     "text": [
      "5\n"
     ]
    },
    {
     "name": "stdin",
     "output_type": "stream",
     "text": [
      " sf\n"
     ]
    },
    {
     "name": "stdout",
     "output_type": "stream",
     "text": [
      "sf\n"
     ]
    }
   ],
   "source": [
    "a=int(input(\"enter number to take input\"))\n",
    "print(a)   #will only take input of integers\n",
    "b=input()\n",
    "print(b)  #can take any type of input  which are stings or integer"
   ]
  },
  {
   "cell_type": "markdown",
   "id": "70a1046c-b9ef-40a8-b0ee-92deb49f5efd",
   "metadata": {},
   "source": [
    "---------------------------------------------------------Comments----------------------------------------------------------------------------------------\n",
    "# Comments are used to store info about the code and are not executed \n",
    "To write comments use #"
   ]
  },
  {
   "cell_type": "code",
   "execution_count": 4,
   "id": "e3ceca0b-407c-4816-9d12-50ba892516fe",
   "metadata": {},
   "outputs": [
    {
     "name": "stdout",
     "output_type": "stream",
     "text": [
      "hello\n",
      "no error\n"
     ]
    }
   ],
   "source": [
    "print(\"hello\")  \n",
    "#bfshioiwrjeiuidsjfiskandfioahiefja-owrf-0aeifihjewakrjf09dusfiovsjdofvjsa09d0uiew9orjoewjf   THEsE ARE COMMENTS IGNORED BY INTREPRETER\n",
    "print(\"no error\")"
   ]
  },
  {
   "cell_type": "markdown",
   "id": "d0f57a2a-0d81-4837-86d9-fcb8bad710eb",
   "metadata": {},
   "source": [
    "---------------------------------------------------------------strings-----------------------------------------------------------------------------------"
   ]
  },
  {
   "cell_type": "markdown",
   "id": "e62d7a1a-d2f2-4845-86e5-00a8eb381c0e",
   "metadata": {},
   "source": [
    "QUOTES\n",
    "single quote  '  '\n",
    "double quotes  \"  \"\n",
    "tripple quotes '''   '''' "
   ]
  },
  {
   "cell_type": "code",
   "execution_count": 7,
   "id": "9c2a214b-9751-4b7a-99a3-3605ec9041b2",
   "metadata": {},
   "outputs": [
    {
     "name": "stdout",
     "output_type": "stream",
     "text": [
      "single quote\n",
      "double quote\n",
      "triple quote\n",
      "there\n",
      "is\n",
      "a\n",
      "cat\n"
     ]
    }
   ],
   "source": [
    "print('single quote')\n",
    "print(\"double quote\")\n",
    "print('''triple quote''')\n",
    "#this is how u add  multiple lines  string \n",
    "a= '''there\n",
    "is\n",
    "a\n",
    "cat'''\n",
    "print(a)"
   ]
  },
  {
   "cell_type": "markdown",
   "id": "6199e059-5514-4155-ba12-b916ed1d47ca",
   "metadata": {},
   "source": [
    "--------------------------------------------------------------------------BOOLEAN------------------------------------------------------------------------"
   ]
  },
  {
   "cell_type": "code",
   "execution_count": 9,
   "id": "50d386ac-7f38-41f1-8193-1641cce3d935",
   "metadata": {},
   "outputs": [
    {
     "name": "stdout",
     "output_type": "stream",
     "text": [
      "It's sunny!\n",
      "It's not warm.\n"
     ]
    }
   ],
   "source": [
    "# Boolean variables\n",
    "is_sunny = True\n",
    "is_warm = False\n",
    "\n",
    "# Simple boolean check\n",
    "if is_sunny:\n",
    "    print(\"It's sunny!\")\n",
    "\n",
    "if not is_warm:\n",
    "    print(\"It's not warm.\")\n"
   ]
  },
  {
   "cell_type": "code",
   "execution_count": null,
   "id": "da50af5a-9837-41de-8dd7-27c129d03510",
   "metadata": {},
   "outputs": [],
   "source": [
    "---------------------------------------------Python automatically identifies type of data ---------------------------------------------------------------"
   ]
  },
  {
   "cell_type": "code",
   "execution_count": 10,
   "id": "6868bf87-052b-45e2-9ba1-80311a3865b6",
   "metadata": {},
   "outputs": [
    {
     "name": "stdout",
     "output_type": "stream",
     "text": [
      "<class 'int'>\n",
      "<class 'str'>\n",
      "<class 'str'>\n",
      "<class 'float'>\n",
      "<class 'NoneType'>\n",
      "<class 'bool'>\n"
     ]
    }
   ],
   "source": [
    "a=5\n",
    "b=\"sid\"\n",
    "c='iitm'\n",
    "d=71.2\n",
    "e=None\n",
    "f=True\n",
    "print(type(a))\n",
    "print(type(b))\n",
    "print(type(c))\n",
    "print(type(d))\n",
    "print(type(e))\n",
    "print(type(f))"
   ]
  },
  {
   "cell_type": "raw",
   "id": "9ac27cb6-8d77-49f8-813e-05f22f35afe8",
   "metadata": {},
   "source": [
    "-----------------------------------------------------------OPERATORS-------------------------------------------------------------------------------------\n",
    "Python supports various operators that allow you to perform operations some of them are"
   ]
  },
  {
   "cell_type": "raw",
   "id": "4dbba9a9-8d54-49c5-a237-bc12f1d22917",
   "metadata": {},
   "source": [
    "Arithmetic Operators:\n",
    "\n",
    "+ (Addition)\n",
    "- (Subtraction)\n",
    "* (Multiplication)\n",
    "/ (Division)\n",
    "% (Modulus)\n",
    "** (Exponentiation)\n",
    "// (Floor Division)\n"
   ]
  },
  {
   "cell_type": "code",
   "execution_count": null,
   "id": "fa9359c6-b3ab-48e0-bca4-c854865396af",
   "metadata": {},
   "outputs": [],
   "source": [
    "a = 10\n",
    "b = 3\n",
    "result = a + b\n"
   ]
  },
  {
   "cell_type": "raw",
   "id": "e7441c00-af12-4677-9309-91ca38623590",
   "metadata": {},
   "source": [
    "Comparison Operators:\n",
    "\n",
    "== (Equal to)\n",
    "!= (Not equal to)\n",
    "< (Less than)\n",
    "> (Greater than)\n",
    "<= (Less than or equal to)\n",
    ">= (Greater than or equal to)"
   ]
  },
  {
   "cell_type": "code",
   "execution_count": null,
   "id": "585c39f0-5823-4cbb-80ab-cbabc83afe14",
   "metadata": {},
   "outputs": [],
   "source": [
    "x = 5\n",
    "y = 7\n",
    "result = x > y\n"
   ]
  },
  {
   "cell_type": "raw",
   "id": "0abeb3a6-36a9-4ba3-a82b-add09e0c4e21",
   "metadata": {},
   "source": [
    "Logical Operators:\n",
    "\n",
    "and (Logical AND)\n",
    "or (Logical OR)\n",
    "not (Logical NOT)"
   ]
  },
  {
   "cell_type": "code",
   "execution_count": null,
   "id": "918f0203-5a22-4047-9798-0408e53cf262",
   "metadata": {},
   "outputs": [],
   "source": [
    "is_sunny = True\n",
    "is_warm = False\n",
    "result = is_sunny and not is_warm\n"
   ]
  },
  {
   "cell_type": "raw",
   "id": "22ea37ae-e5d5-4a1a-ba9b-3d840bd52866",
   "metadata": {},
   "source": [
    "Assignment Operators:\n",
    "\n",
    "= (Assignment)\n",
    "+= (Add and assign)\n",
    "-= (Subtract and assign)\n",
    "*= (Multiply and assign)\n",
    "/= (Divide and assign)\n",
    "%= (Modulus and assign)\n",
    "**= (Exponentiate and assign)\n",
    "//= (Floor divide and assign)"
   ]
  },
  {
   "cell_type": "code",
   "execution_count": null,
   "id": "6211e22b-a39d-4da3-a42d-d6bef7564720",
   "metadata": {},
   "outputs": [],
   "source": [
    "x = 10\n",
    "x += 5  # Equivalent to x = x + 5"
   ]
  },
  {
   "cell_type": "raw",
   "id": "e12a8bd6-f965-41a6-8335-790f9cd56b2e",
   "metadata": {},
   "source": [
    "Identity Operators:\n",
    "\n",
    "is (True if the operands are identical)\n",
    "is not (True if the operands are not identical)"
   ]
  },
  {
   "cell_type": "code",
   "execution_count": null,
   "id": "9adaf215-4fb7-423a-8ef9-f3e5fbd5b264",
   "metadata": {},
   "outputs": [],
   "source": [
    "a = [1, 2, 3]\n",
    "b = [1, 2, 3]\n",
    "result = a is not b\n"
   ]
  },
  {
   "cell_type": "raw",
   "id": "216ac24d-32ba-44cc-8246-945f2777a588",
   "metadata": {},
   "source": [
    "Membership Operators:\n",
    "\n",
    "in (True if a value is found in the sequence)\n",
    "not in (True if a value is not found in the sequence)"
   ]
  },
  {
   "cell_type": "code",
   "execution_count": 40,
   "id": "01a2bd46-36f2-4020-9659-1c8fd2215a41",
   "metadata": {},
   "outputs": [
    {
     "name": "stdout",
     "output_type": "stream",
     "text": [
      "True\n"
     ]
    }
   ],
   "source": [
    "fruits = ['apple', 'banana', 'orange']\n",
    "is_banana_in_fruits = 'banana' in fruits\n",
    "print(is_banana_in_fruits)\n"
   ]
  },
  {
   "cell_type": "markdown",
   "id": "25eea8a8-50f2-456a-a78a-84a2edd60ad4",
   "metadata": {},
   "source": [
    "-----------------------------------------------------------------If Else-------------------------------------------------------------------------------"
   ]
  },
  {
   "cell_type": "markdown",
   "id": "586bafd8-a612-4392-bccc-b20f8c078dc8",
   "metadata": {},
   "source": [
    "#Python Conditions and If statements\n",
    "Equals: a == b\n",
    "Not Equals: a != b\n",
    "Less than: a < b\n",
    "Less than or equal to: a <= b\n",
    "Greater than: a > b\n",
    "Greater than or equal to: a >= b"
   ]
  },
  {
   "cell_type": "code",
   "execution_count": null,
   "id": "abe7c05a-191e-4bd4-b7d8-40dc4410aa69",
   "metadata": {},
   "outputs": [],
   "source": [
    "a = 33\n",
    "b = 200\n",
    "if b > a:\n",
    "  print(\"b is greater than a\")"
   ]
  },
  {
   "cell_type": "markdown",
   "id": "52f208f6-f1d6-44a3-8499-f77bc8703703",
   "metadata": {},
   "source": [
    "ELIF"
   ]
  },
  {
   "cell_type": "code",
   "execution_count": null,
   "id": "8dc4578d-8d40-4740-bd49-7c0071d495b1",
   "metadata": {},
   "outputs": [],
   "source": [
    "a = 33\n",
    "b = 33\n",
    "if b > a:\n",
    "  print(\"b is greater than a\")\n",
    "elif a == b:\n",
    "  print(\"a and b are equal\")"
   ]
  },
  {
   "cell_type": "markdown",
   "id": "1816b7eb-d3b1-435f-a972-f32375b6b011",
   "metadata": {},
   "source": [
    "ELSE"
   ]
  },
  {
   "cell_type": "code",
   "execution_count": null,
   "id": "3be86597-c675-4708-867d-36ba70dcb367",
   "metadata": {},
   "outputs": [],
   "source": [
    "a = 200\n",
    "b = 33\n",
    "if b > a:\n",
    "  print(\"b is greater than a\")\n",
    "elif a == b:\n",
    "  print(\"a and b are equal\")\n",
    "else:\n",
    "  print(\"a is greater than b\")"
   ]
  },
  {
   "cell_type": "markdown",
   "id": "ace6b8f0-9234-443e-b823-db7b8072473c",
   "metadata": {},
   "source": [
    "-------------------------------------------------------------------LOOPS---------------------------------------------------------------------------------"
   ]
  },
  {
   "cell_type": "markdown",
   "id": "a84cf449-5392-4b40-91f9-0fcd7d486118",
   "metadata": {},
   "source": [
    "Python Loops\r\n",
    "Python has two primitive loop commands:\r\n",
    "\r\n",
    "while loops\r\n",
    "for loops\r\n"
   ]
  },
  {
   "cell_type": "code",
   "execution_count": null,
   "id": "dda1def2-c794-4d5c-ad35-fdfed563e23a",
   "metadata": {},
   "outputs": [],
   "source": [
    "#while Loop\n",
    "i = 1\n",
    "while i < 6:\n",
    "  print(i)\n",
    "  i += 1"
   ]
  },
  {
   "cell_type": "code",
   "execution_count": null,
   "id": "b733f2cf-b29d-4b9a-a0c2-d5590c54502f",
   "metadata": {},
   "outputs": [],
   "source": [
    "#The break Statement\n",
    "i = 1\n",
    "while i < 6:\n",
    "  print(i)\n",
    "  if i == 3:\n",
    "    break\n",
    "  i += 1\n"
   ]
  },
  {
   "cell_type": "code",
   "execution_count": null,
   "id": "131c2c58-ae26-4db0-91bd-50e57708e6a9",
   "metadata": {},
   "outputs": [],
   "source": [
    "#The continue Statement\n",
    "i = 0\n",
    "while i < 6:\n",
    "  i += 1\n",
    "  if i == 3:\n",
    "    continue\n",
    "  print(i)"
   ]
  },
  {
   "cell_type": "code",
   "execution_count": null,
   "id": "5ebd070f-9cf8-4d85-80dc-7ca0dfbd60ed",
   "metadata": {},
   "outputs": [],
   "source": [
    "#else Statement\n",
    "i = 1\n",
    "while i < 6:\n",
    "  print(i)\n",
    "  i += 1\n",
    "else:\n",
    "  print(\"i is no longer less than 6\")"
   ]
  },
  {
   "cell_type": "markdown",
   "id": "b6ca690d-b54d-4b7f-bdc1-251f2b7473ee",
   "metadata": {},
   "source": [
    "#Python For Loops\n",
    "A for loop is used for iterating over a sequence (that is either a list, a tuple, a dictionary, a set, or a string)."
   ]
  },
  {
   "cell_type": "code",
   "execution_count": null,
   "id": "03b42527-fed4-486e-9692-2851f34d428f",
   "metadata": {},
   "outputs": [],
   "source": [
    "fruits = [\"apple\", \"banana\", \"cherry\"]\n",
    "for x in fruits:\n",
    "  print(x)"
   ]
  },
  {
   "cell_type": "code",
   "execution_count": null,
   "id": "24b798a4-288a-4fe2-9e04-9859dd25485a",
   "metadata": {},
   "outputs": [],
   "source": [
    "#The break Statement\n",
    "fruits = [\"apple\", \"banana\", \"cherry\"]\n",
    "for x in fruits:\n",
    "  print(x)\n",
    "  if x == \"banana\":\n",
    "    break"
   ]
  },
  {
   "cell_type": "code",
   "execution_count": null,
   "id": "7231ad0e-64a9-4fe8-87af-a23c1d6f50e0",
   "metadata": {},
   "outputs": [],
   "source": [
    "#The continue Statement\n",
    "fruits = [\"apple\", \"banana\", \"cherry\"]\n",
    "for x in fruits:\n",
    "  if x == \"banana\":\n",
    "    continue\n",
    "  print(x)\n"
   ]
  },
  {
   "cell_type": "code",
   "execution_count": null,
   "id": "2441c726-6e3a-4c02-8c45-9395eee9e52a",
   "metadata": {},
   "outputs": [],
   "source": [
    "#The range() Function\n",
    "for x in range(6):\n",
    "  print(x)\n"
   ]
  },
  {
   "cell_type": "code",
   "execution_count": null,
   "id": "ce7f7e40-154c-4a92-bda2-52b4cda3c930",
   "metadata": {},
   "outputs": [],
   "source": [
    "for x in range(2, 6):\n",
    "  print(x)"
   ]
  },
  {
   "cell_type": "code",
   "execution_count": null,
   "id": "87bdc642-0988-4ce5-a893-d89685542a7f",
   "metadata": {},
   "outputs": [],
   "source": [
    "#Increment the sequence with 3 (default is 1):\n",
    "\n",
    "for x in range(2, 30, 3):\n",
    "  print(x)"
   ]
  },
  {
   "cell_type": "code",
   "execution_count": null,
   "id": "b1f0311c-b372-43b8-95b7-2f537edff418",
   "metadata": {},
   "outputs": [],
   "source": [
    "#Else in For Loop\n",
    "for x in range(6):\n",
    "  print(x)\n",
    "else:\n",
    "  print(\"Finally finished!\")"
   ]
  },
  {
   "cell_type": "code",
   "execution_count": null,
   "id": "8fb414ca-6524-4c4b-bdbc-ed8abda5d537",
   "metadata": {},
   "outputs": [],
   "source": [
    "for x in range(6):\n",
    "  if x == 3: break\n",
    "  print(x)\n",
    "else:\n",
    "  print(\"Finally finished!\")"
   ]
  },
  {
   "cell_type": "code",
   "execution_count": null,
   "id": "a45b2834-157a-45aa-ab57-aac27ddef1ed",
   "metadata": {},
   "outputs": [],
   "source": [
    "#Nested Loops\n",
    "#A nested loop is a loop inside a loop.\n",
    "#\n",
    "#The \"inner loop\" will be executed one time for each iteration of the \"outer loop\":\n",
    "adj = [\"red\", \"big\", \"tasty\"]\n",
    "fruits = [\"apple\", \"banana\", \"cherry\"]\n",
    "\n",
    "for x in adj:\n",
    "  for y in fruits:\n",
    "    print(x, y)"
   ]
  },
  {
   "cell_type": "code",
   "execution_count": null,
   "id": "9e5bf971-8040-4597-b0f7-dd10166cae0a",
   "metadata": {},
   "outputs": [],
   "source": [
    "#Example 1: Print each element in a list multiple times\n",
    "numbers = [1, 2, 3, 4]\n",
    "\n",
    "for num in numbers:\n",
    "    for _ in range(3):  # Print each number three times\n",
    "        print(num, end=\" \")\n"
   ]
  },
  {
   "cell_type": "code",
   "execution_count": null,
   "id": "e7fa6304-fa41-4ee5-8cb8-ad72390dfba0",
   "metadata": {},
   "outputs": [],
   "source": []
  },
  {
   "cell_type": "raw",
   "id": "0817323c-13a5-4012-a6ea-0ae9a59a2247",
   "metadata": {},
   "source": [
    "-----------------------------------------------------------------------LISTS-----------------------------------------------------------------------------\n",
    "Py lists are dynamic size of array \n",
    "a list is a collection of items enclosed in [] and is seperated by ,"
   ]
  },
  {
   "cell_type": "code",
   "execution_count": 14,
   "id": "5a1ba1ec-633a-4764-9461-9d989f6857bc",
   "metadata": {},
   "outputs": [
    {
     "name": "stdout",
     "output_type": "stream",
     "text": [
      "['cat', 'dog', 'cow']\n"
     ]
    }
   ],
   "source": [
    "a=['cat' , \"dog\" , '''cow''']\n",
    "print(a)"
   ]
  },
  {
   "cell_type": "raw",
   "id": "4b7c4b14-d9de-48b6-9fff-56750061b4db",
   "metadata": {},
   "source": [
    "------------------------------------------------CREATING A LIST AND ACCESSING THEM USING INDEX-----------------------------------------------------------"
   ]
  },
  {
   "cell_type": "code",
   "execution_count": 16,
   "id": "fc30d5a2-da77-489b-b3f5-c2b78da91679",
   "metadata": {
    "scrolled": true
   },
   "outputs": [
    {
     "name": "stdout",
     "output_type": "stream",
     "text": [
      "['indian', 'institute', 'of', 'technology']\n"
     ]
    }
   ],
   "source": [
    "list=[\"indian\" , \"institute\", \"of\" , \"technology\"]\n",
    "print(list)"
   ]
  },
  {
   "cell_type": "code",
   "execution_count": null,
   "id": "bdd04d30-3d1e-4037-914c-58f5e6960141",
   "metadata": {},
   "outputs": [],
   "source": [
    "-----------------------------------------------------storing mixed data types in list--------------------------------------------------------------------"
   ]
  },
  {
   "cell_type": "code",
   "execution_count": 26,
   "id": "fc5e1dcd-df08-4fb1-bf26-41d092806c2a",
   "metadata": {},
   "outputs": [
    {
     "name": "stdout",
     "output_type": "stream",
     "text": [
      "[1, 565.5, 'demo', 'true']\n"
     ]
    }
   ],
   "source": [
    "a=[1,565.5,'demo','true']\n",
    "print(a)"
   ]
  },
  {
   "cell_type": "raw",
   "id": "8b643c82-c0b5-4e1f-a5f1-2fdea6698ab1",
   "metadata": {},
   "source": [
    "-------------------------------------------------------ACCESSING LIST USING INDEX------------------------------------------------------------------------"
   ]
  },
  {
   "cell_type": "code",
   "execution_count": 25,
   "id": "6e24fe7e-dee4-4f29-b49b-24eb00faa452",
   "metadata": {},
   "outputs": [
    {
     "name": "stdout",
     "output_type": "stream",
     "text": [
      "indian\n",
      "of\n",
      "technology\n"
     ]
    }
   ],
   "source": [
    "a=['1','565.5','demo','true']\n",
    "print(list[0])\n",
    "print(list[2])\n",
    "print(list[3])"
   ]
  },
  {
   "cell_type": "markdown",
   "id": "2a1936ca-4ba2-44fa-a48a-1b5a739b07c4",
   "metadata": {},
   "source": [
    "creating list of numbers"
   ]
  },
  {
   "cell_type": "code",
   "execution_count": null,
   "id": "df97b297-1e87-41d0-8f4c-7383dcad13f4",
   "metadata": {},
   "outputs": [],
   "source": [
    "list=[10,20,30,40,50]\n",
    "print(list)"
   ]
  },
  {
   "cell_type": "raw",
   "id": "2b41f9b4-0723-4324-9970-30edd41a8099",
   "metadata": {},
   "source": [
    "------------------------------------------------------------------List Operations------------------------------------------------------------------------"
   ]
  },
  {
   "cell_type": "code",
   "execution_count": 2,
   "id": "ca00781e-eb78-495a-8bf8-a9b87c166659",
   "metadata": {},
   "outputs": [
    {
     "name": "stdout",
     "output_type": "stream",
     "text": [
      "[1, 5, 8, 9, 10, 48, 48, 52, 58, 66, 816, 5498]\n",
      "[5498, 816, 66, 58, 52, 48, 48, 10, 9, 8, 5, 1]\n",
      "[5498, 816, 66, 58, 52, 48, 48, 10, 9, 8, 5, 1, 9999999]\n",
      "[816, 66, 58, 52, 48, 48, 10, 9, 8, 5, 1, 9999999]\n",
      "[816, 66, 58, 52, 48, 10, 9, 8, 5, 1, 9999999]\n",
      "[816, 66, 58, 8, 52, 48, 10, 9, 8, 5, 1, 9999999]\n"
     ]
    }
   ],
   "source": [
    "l=[1,8,5498,48,5,9,10,52,58,66,48,816]\n",
    "l.sort()\n",
    "#sort all elements in ascending order\n",
    "print(l)\n",
    "\n",
    "\n",
    "l.reverse()\n",
    "#reverse the given string\n",
    "print(l) \n",
    "\n",
    "\n",
    "l.append(9999999)\n",
    "#adding element in list\n",
    "print(l)\n",
    "\n",
    "\n",
    "l.remove(5498)\n",
    "#remove the givn element\n",
    "print(l)\n",
    "\n",
    "\n",
    "l.pop(4)\n",
    "#delete the element at index 4\n",
    "print(l)\n",
    "\n",
    "\n",
    "l.insert(3,8)\n",
    "#inserting element 8 at th 3rd index of list\n",
    "print(l)"
   ]
  },
  {
   "cell_type": "markdown",
   "id": "35f266c4-637e-4676-8a15-16422939cffc",
   "metadata": {},
   "source": [
    "---------------------------------------------------------FINDING THR SIZE OF PYTHON LIST-----------------------------------------------------------------"
   ]
  },
  {
   "cell_type": "code",
   "execution_count": 3,
   "id": "2db0776b-4a57-4a64-ab69-7bd0a7343264",
   "metadata": {},
   "outputs": [
    {
     "name": "stdout",
     "output_type": "stream",
     "text": [
      "0\n",
      "3\n"
     ]
    }
   ],
   "source": [
    "LIST=[]\n",
    "print(len(LIST))\n",
    "\n",
    "\n",
    "l=[10,55,858]\n",
    "print(len(l))"
   ]
  },
  {
   "cell_type": "markdown",
   "id": "94bdd22a-5e23-47c4-88f5-7133ca6d5814",
   "metadata": {},
   "source": [
    "---------------------------------------------------TAKING INPUT IN PYTHON LISt---------------------------------------------------------------------------"
   ]
  },
  {
   "cell_type": "code",
   "execution_count": 4,
   "id": "d10343c6-1df7-493a-9ad8-41e8ca87c24d",
   "metadata": {},
   "outputs": [
    {
     "name": "stdout",
     "output_type": "stream",
     "text": [
      "['hellohoneybunny']\n"
     ]
    }
   ],
   "source": [
    "a=\"hellohoneybunny\"\n",
    "b=a.split()\n",
    "print(b)"
   ]
  },
  {
   "cell_type": "code",
   "execution_count": 19,
   "id": "1f17b4bc-ed36-4b88-bb9a-321ae09ac497",
   "metadata": {},
   "outputs": [
    {
     "name": "stdout",
     "output_type": "stream",
     "text": [
      "['hello', 'honey', 'bunny']\n"
     ]
    }
   ],
   "source": [
    "a=\"hello,honey,bunny\"\n",
    "b=a.split(',')\n",
    "print(b)"
   ]
  },
  {
   "cell_type": "code",
   "execution_count": 8,
   "id": "45f2f01f-8da6-483c-aea0-c20da9410e0d",
   "metadata": {},
   "outputs": [
    {
     "name": "stdout",
     "output_type": "stream",
     "text": [
      "['hello', 'honey', 'bunny']\n"
     ]
    }
   ],
   "source": [
    "a=\" hello   honey   bunny \"\n",
    "b=a.split()\n",
    "print(b)"
   ]
  },
  {
   "cell_type": "code",
   "execution_count": 7,
   "id": "1dcaaad4-6909-4eec-b81e-23cf4312d5a4",
   "metadata": {},
   "outputs": [
    {
     "name": "stdout",
     "output_type": "stream",
     "text": [
      "['hello', 'Honey', 'Bunny']\n"
     ]
    }
   ],
   "source": [
    "a=\"hello Honey Bunny\"\n",
    "b=a.split()\n",
    "print(b)"
   ]
  },
  {
   "cell_type": "code",
   "execution_count": null,
   "id": "adebc23f-b55d-4ca0-905a-e5c4b4e7880c",
   "metadata": {},
   "outputs": [],
   "source": [
    "n = int(input(\"Enter the size of the list: \"))\n",
    "a = list(map(int, input(\"Enter the integer elements: \").strip().split()))[:n]\n",
    "print(\"The list is:\", a)"
   ]
  },
  {
   "cell_type": "code",
   "execution_count": null,
   "id": "e78f0726-47a5-4ced-8ef1-fd70f0297091",
   "metadata": {},
   "outputs": [],
   "source": [
    "-----------------------------------------------------------------MATRIX ADDITION-------------------------------------------------------------------------"
   ]
  },
  {
   "cell_type": "code",
   "execution_count": 13,
   "id": "2f4c6e09-0d1a-4a89-9a98-e8157b4926b8",
   "metadata": {},
   "outputs": [
    {
     "name": "stdout",
     "output_type": "stream",
     "text": [
      "Matrix A:\n",
      "[1, 2, 3]\n",
      "[4, 5, 6]\n",
      "[7, 8, 9]\n",
      "\n",
      "Matrix B:\n",
      "[9, 8, 7]\n",
      "[6, 5, 4]\n",
      "[3, 2, 1]\n",
      "\n",
      "Matrix C (A + B):\n",
      "[10, 10, 10]\n",
      "[10, 10, 10]\n",
      "[10, 10, 10]\n"
     ]
    }
   ],
   "source": [
    "dim = 3\n",
    "\n",
    "# Matrix A\n",
    "r1 = [1, 2, 3]\n",
    "r2 = [4, 5, 6]\n",
    "r3 = [7, 8, 9]\n",
    "A = [r1, r2, r3]\n",
    "\n",
    "# Matrix B\n",
    "s1 = [9, 8, 7]\n",
    "s2 = [6, 5, 4]\n",
    "s3 = [3, 2, 1]\n",
    "B = [s1, s2, s3]\n",
    "\n",
    "# Matrix C (result of A + B)\n",
    "C = [[0, 0, 0], [0, 0, 0], [0, 0, 0]]\n",
    "\n",
    "# Matrix addition\n",
    "for i in range(dim):\n",
    "    for j in range(dim):\n",
    "        C[i][j] = A[i][j] + B[i][j]\n",
    "\n",
    "# Print matrices\n",
    "print(\"Matrix A:\")\n",
    "for row in A:\n",
    "    print(row)\n",
    "\n",
    "print(\"\\nMatrix B:\")\n",
    "for row in B:\n",
    "    print(row)\n",
    "\n",
    "print(\"\\nMatrix C (A + B):\")\n",
    "for row in C:\n",
    "    print(row)"
   ]
  },
  {
   "cell_type": "code",
   "execution_count": null,
   "id": "26cea122-1370-4feb-a83c-f9620880c42d",
   "metadata": {},
   "outputs": [],
   "source": [
    "-----------------------------------------------------------MATRIX MULTIPLICATION-------------------------------------------------------------------------"
   ]
  },
  {
   "cell_type": "code",
   "execution_count": 14,
   "id": "55173525-f68a-45c2-942b-8ea79ca11ecb",
   "metadata": {},
   "outputs": [
    {
     "name": "stdout",
     "output_type": "stream",
     "text": [
      "Matrix A:\n",
      "[1, 2, 3]\n",
      "[4, 5, 6]\n",
      "[7, 8, 9]\n",
      "\n",
      "Matrix B:\n",
      "[9, 8, 7]\n",
      "[6, 5, 4]\n",
      "[3, 2, 1]\n",
      "\n",
      "Matrix C (A * B):\n",
      "[30, 24, 18]\n",
      "[84, 69, 54]\n",
      "[138, 114, 90]\n"
     ]
    }
   ],
   "source": [
    "dim = 3\n",
    "\n",
    "# Matrix A\n",
    "A = [\n",
    "    [1, 2, 3],\n",
    "    [4, 5, 6],\n",
    "    [7, 8, 9]\n",
    "]\n",
    "\n",
    "# Matrix B\n",
    "B = [\n",
    "    [9, 8, 7],\n",
    "    [6, 5, 4],\n",
    "    [3, 2, 1]\n",
    "]\n",
    "\n",
    "# Resultant Matrix C\n",
    "C = [[0, 0, 0], [0, 0, 0], [0, 0, 0]]\n",
    "\n",
    "# Matrix multiplication\n",
    "for i in range(dim):\n",
    "    for j in range(dim):\n",
    "        for k in range(dim):\n",
    "            C[i][j] += A[i][k] * B[k][j]\n",
    "\n",
    "# Print matrices\n",
    "print(\"Matrix A:\")\n",
    "for row in A:\n",
    "    print(row)\n",
    "\n",
    "print(\"\\nMatrix B:\")\n",
    "for row in B:\n",
    "    print(row)\n",
    "\n",
    "print(\"\\nMatrix C (A * B):\")\n",
    "for row in C:\n",
    "    print(row)\n"
   ]
  },
  {
   "cell_type": "markdown",
   "id": "a930b2cd-c97d-45eb-9c87-54ae5f94c5a8",
   "metadata": {},
   "source": [
    "-----------------------------------------------------------SEARCHING IN LIST-----------------------------------------------------------------------------"
   ]
  },
  {
   "cell_type": "code",
   "execution_count": null,
   "id": "52b313fa-d687-4bd8-bbde-b1dfff5ff531",
   "metadata": {},
   "outputs": [],
   "source": [
    "my_list = [1, 2, 3, 4, 5]\n",
    "target_element = 3\n",
    "\n",
    "if target_element in my_list:\n",
    "    print(f\"{target_element} found in the list.\")\n",
    "else:\n",
    "    print(f\"{target_element} not found in the list.\")\n"
   ]
  },
  {
   "cell_type": "markdown",
   "id": "e068f80c-4e51-4936-b1ed-5758ad7eb9c2",
   "metadata": {},
   "source": [
    "---------------------------------------------------------------SORTING IN LIST--------------------------------------------------------------------------"
   ]
  },
  {
   "cell_type": "code",
   "execution_count": null,
   "id": "ea727e6a-95a1-4547-a21e-f9b6651ef42c",
   "metadata": {},
   "outputs": [],
   "source": [
    "my_list = [4, 2, 8, 1, 6, 3, 7]\n",
    "\n",
    "# Use sorted() to create a new sorted list\n",
    "sorted_list = sorted(my_list)\n",
    "\n",
    "print(\"Original list:\", my_list)\n",
    "print(\"Sorted list:\", sorted_list)\n"
   ]
  },
  {
   "cell_type": "code",
   "execution_count": null,
   "id": "5ded3ec5-8f37-42d2-9b73-a8fed11632cc",
   "metadata": {},
   "outputs": [],
   "source": [
    "--------------------------------------------PYTHON LIST BUILT IN FUNCTIONS------------------------------------------------------------------------------"
   ]
  },
  {
   "cell_type": "raw",
   "id": "5822b8ec-0152-44b7-bcf5-c65facc9c8d2",
   "metadata": {},
   "source": [
    "append()\tAdds an element at the end of the list\n",
    "clear()\tRemoves all the elements from the list\n",
    "copy()\tReturns a copy of the list\n",
    "count()\tReturns the number of elements with the specified value\n",
    "extend()\tAdd the elements of a list (or any iterable), to the end of the current list\n",
    "index()\tReturns the index of the first element with the specified value\n",
    "insert()\tAdds an element at the specified position\n",
    "pop()\tRemoves the element at the specified position\n",
    "remove()\tRemoves the first item with the specified value\n",
    "reverse()\tReverses the order of the list\n",
    "sort()\tSorts the list"
   ]
  },
  {
   "cell_type": "markdown",
   "id": "7f643238-c395-48f8-b1eb-7b8d4616c695",
   "metadata": {},
   "source": [
    "---------------------------------------------------------------STRINGS ----------------------------------------------------------------------------------"
   ]
  },
  {
   "cell_type": "markdown",
   "id": "1544aca2-7f4b-46fc-80da-f359ba14e4ff",
   "metadata": {},
   "source": [
    "-----concatenation of strings-adding two strings"
   ]
  },
  {
   "cell_type": "code",
   "execution_count": 24,
   "id": "a4ebf23b-1652-4fbd-b8d5-9c6e88fb8e56",
   "metadata": {},
   "outputs": [
    {
     "name": "stdout",
     "output_type": "stream",
     "text": [
      "hisidhant\n"
     ]
    }
   ],
   "source": [
    "a='hi'\n",
    "b= 'sidhant'\n",
    "print(a+b)"
   ]
  },
  {
   "cell_type": "raw",
   "id": "439f41e2-504d-4718-a55a-a2913ad9cc48",
   "metadata": {},
   "source": [
    "------string slicing"
   ]
  },
  {
   "cell_type": "code",
   "execution_count": 28,
   "id": "3d60dce7-7c4b-446b-9e8b-a1e8806c0a27",
   "metadata": {},
   "outputs": [
    {
     "name": "stdout",
     "output_type": "stream",
     "text": [
      "amazing\n",
      "amazing\n",
      "zing\n",
      "amazi\n",
      "a\n"
     ]
    }
   ],
   "source": [
    "word = \"amazing\"\n",
    "\n",
    "# Slicing and printing\n",
    "slice1 = word[:7]\n",
    "print(slice1)  # Output: amazing\n",
    "\n",
    "slice2 = word[0:]\n",
    "print(slice2)  # Output: amazing\n",
    "\n",
    "slice3 = word[3:]\n",
    "print(slice3)  # Output: zing\n",
    "\n",
    "slice4 = word[:5]\n",
    "print(slice4)  # Output: amazi\n",
    "\n",
    "slice5 = word[0:4:6]\n",
    "print(slice5)  # Output: a\n"
   ]
  },
  {
   "cell_type": "markdown",
   "id": "a4b6a2cd-fb31-4373-b912-a2e60186b084",
   "metadata": {},
   "source": [
    "--------------REVERSING STRING-----------------------------"
   ]
  },
  {
   "cell_type": "code",
   "execution_count": 30,
   "id": "0b28081b-d631-4f4c-af2b-1ccfc8b31d50",
   "metadata": {},
   "outputs": [
    {
     "name": "stdout",
     "output_type": "stream",
     "text": [
      "gnizama\n"
     ]
    }
   ],
   "source": [
    "word=\"amazing\"\n",
    "print(word[::-1])"
   ]
  },
  {
   "cell_type": "code",
   "execution_count": null,
   "id": "8ddef8cf-095d-41a1-a196-2a3bf7cb708f",
   "metadata": {},
   "outputs": [],
   "source": [
    "------------------------------------------------------STRING FUNCTIONS-----------------------------------------------------------------------------------"
   ]
  },
  {
   "cell_type": "markdown",
   "id": "7ebc29f4-1262-4844-8ec4-21f0b02384e3",
   "metadata": {},
   "source": [
    "#      len()         to find length of string\n",
    "#      string.Capatalize()      this function capatalise the first character of string\n",
    "#       string.replace(old word,new word)    this function replace old word with new word in entire string\n",
    "#       string.count(\"i\")     this function counts total number of any character\n",
    "#       string.find(word)      this function  finds a word and return the index of 1st occurance of that word in the string\n",
    "#       string.endswith(\"ant\")   if the string end with \"ant\"  then return true else will return false\n"
   ]
  },
  {
   "cell_type": "code",
   "execution_count": 39,
   "id": "7bb14dd5-d913-4823-a4eb-80af0a8a7861",
   "metadata": {},
   "outputs": [
    {
     "name": "stdout",
     "output_type": "stream",
     "text": [
      "Length of the string: 7\n",
      "Capitalized string: Sidhant\n",
      "Count of 'i' in the string: 1\n",
      "Index of 'a': 4\n",
      "String ends with 'ant': True\n",
      "String after replacement: midhant\n"
     ]
    }
   ],
   "source": [
    "string = \"sidhant\"\n",
    "\n",
    "# Get the length of the string\n",
    "length = len(string)\n",
    "print(\"Length of the string:\", length)\n",
    "\n",
    "# Capitalize the string\n",
    "capitalized_string = string.capitalize()\n",
    "print(\"Capitalized string:\", capitalized_string)\n",
    "\n",
    "# Count occurrences of the letter 'i' in the string\n",
    "count_i = string.count(\"i\")\n",
    "print(\"Count of 'i' in the string:\", count_i)\n",
    "\n",
    "# Find the index of the first occurrence of 'a' in the string\n",
    "index_a = string.find(\"a\")\n",
    "print(\"Index of 'a':\", index_a)\n",
    "\n",
    "# Check if the string ends with \"ant\"\n",
    "ends_with_ant = string.endswith(\"ant\")\n",
    "print(\"String ends with 'ant':\", ends_with_ant)\n",
    "\n",
    "# Replace 's' with 'm' in the string\n",
    "replaced_string = string.replace(\"s\", \"m\")\n",
    "print(\"String after replacement:\", replaced_string)\n"
   ]
  },
  {
   "cell_type": "markdown",
   "id": "fe4ced73-00a1-4743-858b-a5c8ea61930a",
   "metadata": {},
   "source": [
    "-----------------------------------------------------------STRINGS BUILT IN FUNCTIONS--------------------------------------------------------------------"
   ]
  },
  {
   "cell_type": "raw",
   "id": "39fc6bcc-81b1-43ef-9119-360d31996f69",
   "metadata": {},
   "source": [
    "capitalize()\tConverts the first character to upper case\n",
    "casefold()\tConverts string into lower case\n",
    "center()\tReturns a centered string\n",
    "count()\tReturns the number of times a specified value occurs in a string\n",
    "encode()\tReturns an encoded version of the string\n",
    "endswith()\tReturns true if the string ends with the specified value\n",
    "expandtabs()\tSets the tab size of the string\n",
    "find()\tSearches the string for a specified value and returns the position of where it was found\n",
    "format()\tFormats specified values in a string\n",
    "format_map()\tFormats specified values in a string\n",
    "index()\tSearches the string for a specified value and returns the position of where it was found\n",
    "isalnum()\tReturns True if all characters in the string are alphanumeric\n",
    "isalpha()\tReturns True if all characters in the string are in the alphabet\n",
    "isascii()\tReturns True if all characters in the string are ascii characters\n",
    "isdecimal()\tReturns True if all characters in the string are decimals\n",
    "isdigit()\tReturns True if all characters in the string are digits\n",
    "isidentifier()\tReturns True if the string is an identifier\n",
    "islower()\tReturns True if all characters in the string are lower case\n",
    "isnumeric()\tReturns True if all characters in the string are numeric\n",
    "isprintable()\tReturns True if all characters in the string are printable\n",
    "isspace()\tReturns True if all characters in the string are whitespaces\n",
    "istitle()\tReturns True if the string follows the rules of a title\n",
    "isupper()\tReturns True if all characters in the string are upper case\n",
    "join()\tConverts the elements of an iterable into a string\n",
    "ljust()\tReturns a left justified version of the string\n",
    "lower()\tConverts a string into lower case\n",
    "lstrip()\tReturns a left trim version of the string\n",
    "maketrans()\tReturns a translation table to be used in translations\n",
    "partition()\tReturns a tuple where the string is parted into three parts\n",
    "replace()\tReturns a string where a specified value is replaced with a specified value\n",
    "rfind()\tSearches the string for a specified value and returns the last position of where it was found\n",
    "rindex()\tSearches the string for a specified value and returns the last position of where it was found\n",
    "rjust()\tReturns a right justified version of the string\n",
    "rpartition()\tReturns a tuple where the string is parted into three parts\n",
    "rsplit()\tSplits the string at the specified separator, and returns a list\n",
    "rstrip()\tReturns a right trim version of the string\n",
    "split()\tSplits the string at the specified separator, and returns a list\n",
    "splitlines()\tSplits the string at line breaks and returns a list\n",
    "startswith()\tReturns true if the string starts with the specified value\n",
    "strip()\tReturns a trimmed version of the string\n",
    "swapcase()\tSwaps cases, lower case becomes upper case and vice versa\n",
    "title()\tConverts the first character of each word to upper case\n",
    "translate()\tReturns a translated string\n",
    "upper()\tConverts a string into upper case\n",
    "zfill()\tFills the string with a specified number of 0 values at the beginning"
   ]
  },
  {
   "cell_type": "markdown",
   "id": "ad41217d-e2f8-4f9d-bf5b-72d875184f2f",
   "metadata": {},
   "source": [
    "-------------------------------------------------------------------DICTIONARY----------------------------------------------------------------------------"
   ]
  },
  {
   "cell_type": "markdown",
   "id": "d4a591c4-55cf-412a-ab98-0181e4a742cc",
   "metadata": {},
   "source": [
    "Dictionaries are used to store data values in key:value pairs.\r\n",
    "\r\n",
    "A dictionary is a collection which is ordered*, changeable and do not allow duplicate\n",
    "Dictionaries are written with curly brackets, and have keys and values:s."
   ]
  },
  {
   "cell_type": "code",
   "execution_count": null,
   "id": "cc32495f-207a-46c5-bff4-d8a585f20d7c",
   "metadata": {},
   "outputs": [],
   "source": [
    "#Create and print a dictionary:\n",
    "\n",
    "thisdict = {\n",
    "  \"brand\": \"Ford\",\n",
    "  \"model\": \"Mustang\",\n",
    "  \"year\": 1964\n",
    "}\n",
    "print(thisdict)"
   ]
  },
  {
   "cell_type": "code",
   "execution_count": null,
   "id": "eefa1948-0d83-434a-831d-687e6d67e788",
   "metadata": {},
   "outputs": [],
   "source": [
    "#Print the \"brand\" value of the dictionary:\n",
    "\n",
    "thisdict = {\n",
    "  \"brand\": \"Ford\",\n",
    "  \"model\": \"Mustang\",\n",
    "  \"year\": 1964\n",
    "}\n",
    "print(thisdict[\"brand\"])"
   ]
  },
  {
   "cell_type": "code",
   "execution_count": null,
   "id": "26e73fb2-c468-408c-b513-51783e4ffbe8",
   "metadata": {},
   "outputs": [],
   "source": [
    "#Dictionaries cannot have two items with the same key:\n",
    "#Duplicate values will overwrite existing values:\n",
    "\n",
    "thisdict = {\n",
    "  \"brand\": \"Ford\",\n",
    "  \"model\": \"Mustang\",\n",
    "  \"year\": 1964,\n",
    "  \"year\": 2020\n",
    "}\n",
    "print(thisdict)"
   ]
  },
  {
   "cell_type": "code",
   "execution_count": null,
   "id": "d33539cc-dff0-4749-827d-302904f97bfa",
   "metadata": {},
   "outputs": [],
   "source": [
    "#ACCESS DICTIONARY ITEMS\n",
    "Get the value of the \"model\" key:\n",
    "\n",
    "thisdict = {\n",
    "  \"brand\": \"Ford\",\n",
    "  \"model\": \"Mustang\",\n",
    "  \"year\": 1964\n",
    "}\n",
    "x = thisdict[\"model\"]"
   ]
  },
  {
   "cell_type": "code",
   "execution_count": null,
   "id": "70540545-30da-4803-8557-ea1b4a074db4",
   "metadata": {},
   "outputs": [],
   "source": [
    "#Change the \"year\" to 2018:\n",
    "\n",
    "thisdict = {\n",
    "  \"brand\": \"Ford\",\n",
    "  \"model\": \"Mustang\",\n",
    "  \"year\": 1964\n",
    "}\n",
    "thisdict[\"year\"] = 2018"
   ]
  },
  {
   "cell_type": "code",
   "execution_count": null,
   "id": "9e8c2c3a-2b7a-4ba5-9c4a-6b30ad594146",
   "metadata": {},
   "outputs": [],
   "source": [
    "#Update the \"year\" of the car by using the update() method:\n",
    "\n",
    "thisdict = {\n",
    "  \"brand\": \"Ford\",\n",
    "  \"model\": \"Mustang\",\n",
    "  \"year\": 1964\n",
    "}\n",
    "thisdict.update({\"year\": 2020})"
   ]
  },
  {
   "cell_type": "code",
   "execution_count": null,
   "id": "c10b5096-ac51-4384-9ae6-c8c209ca48d8",
   "metadata": {},
   "outputs": [],
   "source": [
    "#Adding Items\n",
    "thisdict = {\n",
    "  \"brand\": \"Ford\",\n",
    "  \"model\": \"Mustang\",\n",
    "  \"year\": 1964\n",
    "}\n",
    "thisdict[\"color\"] = \"red\"\n",
    "print(thisdict)"
   ]
  },
  {
   "cell_type": "code",
   "execution_count": null,
   "id": "67a9fec8-cb06-4b33-b632-bf62c58ce7ca",
   "metadata": {},
   "outputs": [],
   "source": [
    "#Removing Items\n",
    "thisdict = {\n",
    "  \"brand\": \"Ford\",\n",
    "  \"model\": \"Mustang\",\n",
    "  \"year\": 1964\n",
    "}\n",
    "thisdict.pop(\"model\")\n",
    "print(thisdict)\n"
   ]
  },
  {
   "cell_type": "code",
   "execution_count": null,
   "id": "3a94e43e-07d9-4d5f-b79d-fef3706316f6",
   "metadata": {},
   "outputs": [],
   "source": [
    "-------------------------------------------------------------------------SETS----------------------------------------------------------------------------"
   ]
  },
  {
   "cell_type": "markdown",
   "id": "411fa97a-6837-4fc6-a4fa-b5e958f38207",
   "metadata": {},
   "source": [
    "Sets are used to store multiple items in a single variable.\n",
    "\n",
    "Set is one of 4 built-in data types in Python used to store collections of data, the other 3 are List, Tuple, and Dictionary, all with different qualities and usage.\n",
    "\n",
    "A set is a collection which is unordered, unchangeable*, and unindexed.\n",
    "Sets are written with curly brackets."
   ]
  },
  {
   "cell_type": "code",
   "execution_count": null,
   "id": "fb742d1e-f858-4574-be40-713744f01e12",
   "metadata": {},
   "outputs": [],
   "source": [
    "thisset = {\"apple\", \"banana\", \"cherry\"}\n",
    "print(thisset)"
   ]
  },
  {
   "cell_type": "code",
   "execution_count": null,
   "id": "158fa58b-2a70-41d2-b46e-edc47bb37ff3",
   "metadata": {},
   "outputs": [],
   "source": [
    "#Duplicates Not Allowed\n",
    "#Sets cannot have two items with the same value.\n",
    "thisset = {\"apple\", \"banana\", \"cherry\", \"apple\"}\n",
    "\n",
    "print(thisset)"
   ]
  },
  {
   "cell_type": "code",
   "execution_count": null,
   "id": "7964b258-874c-4c73-89aa-7bc6b04e8235",
   "metadata": {},
   "outputs": [],
   "source": [
    "#Get the Length of a Set\n",
    "thisset = {\"apple\", \"banana\", \"cherry\"}\n",
    "\n",
    "print(len(thisset))"
   ]
  },
  {
   "cell_type": "code",
   "execution_count": null,
   "id": "916948f0-d5d6-4f5a-9d05-b7b7f4987c80",
   "metadata": {},
   "outputs": [],
   "source": [
    "#Set Items - Data Types\n",
    "#Set items can be of any data type:\n",
    "set1 = {\"apple\", \"banana\", \"cherry\"}\n",
    "set2 = {1, 5, 7, 9, 3}\n",
    "set3 = {True, False, False}"
   ]
  },
  {
   "cell_type": "code",
   "execution_count": null,
   "id": "fc28df7f-319b-4da4-8b3a-bf6ef31d55f7",
   "metadata": {},
   "outputs": [],
   "source": [
    "#Access Items\n",
    "thisset = {\"apple\", \"banana\", \"cherry\"}\n",
    "\n",
    "for x in thisset:\n",
    "  print(x)"
   ]
  },
  {
   "cell_type": "code",
   "execution_count": null,
   "id": "1561f639-a341-48de-9016-75dc0c84e25d",
   "metadata": {},
   "outputs": [],
   "source": [
    "#Check if \"banana\" is present in the set:\n",
    "\n",
    "thisset = {\"apple\", \"banana\", \"cherry\"}\n",
    "\n",
    "print(\"banana\" in thisset)"
   ]
  },
  {
   "cell_type": "code",
   "execution_count": null,
   "id": "9ed9587d-4fa3-4880-9fd2-44e661621e1a",
   "metadata": {},
   "outputs": [],
   "source": [
    "#Add an item to a set, using the add() method:\n",
    "\n",
    "thisset = {\"apple\", \"banana\", \"cherry\"}\n",
    "\n",
    "thisset.add(\"orange\")\n",
    "\n",
    "print(thisset)"
   ]
  },
  {
   "cell_type": "code",
   "execution_count": null,
   "id": "673360f2-40bb-49f2-8c6a-12d13d4f4417",
   "metadata": {},
   "outputs": [],
   "source": [
    "#Remove \"banana\" by using the remove() method:\n",
    "\n",
    "thisset = {\"apple\", \"banana\", \"cherry\"}\n",
    "\n",
    "thisset.remove(\"banana\")\n",
    "\n",
    "print(thisset)"
   ]
  },
  {
   "cell_type": "code",
   "execution_count": null,
   "id": "eab3e87a-4f6c-4659-a088-5854be59966c",
   "metadata": {},
   "outputs": [],
   "source": [
    "BUILT IN FUNCTIONS IN SETS"
   ]
  },
  {
   "cell_type": "raw",
   "id": "61edaa57-3b91-4e17-8170-34e2699fb8ef",
   "metadata": {},
   "source": [
    "add()\tAdds an element to the set\n",
    "clear()\tRemoves all the elements from the set\n",
    "copy()\tReturns a copy of the set\n",
    "difference()\tReturns a set containing the difference between two or more sets\n",
    "difference_update()\tRemoves the items in this set that are also included in another, specified set\n",
    "discard()\tRemove the specified item\n",
    "intersection()\tReturns a set, that is the intersection of two or more sets\n",
    "intersection_update()\tRemoves the items in this set that are not present in other, specified set(s)\n",
    "isdisjoint()\tReturns whether two sets have a intersection or not\n",
    "issubset()\tReturns whether another set contains this set or not\n",
    "issuperset()\tReturns whether this set contains another set or not\n",
    "pop()\tRemoves an element from the set\n",
    "remove()\tRemoves the specified element\n",
    "symmetric_difference()\tReturns a set with the symmetric differences of two sets\n",
    "symmetric_difference_update()\tinserts the symmetric differences from this set and another\n",
    "union()\tReturn a set containing the union of sets\n",
    "update()\tUpdate the set with another set, or any other iterable"
   ]
  },
  {
   "cell_type": "code",
   "execution_count": null,
   "id": "b65444b2-fa55-4422-adb5-908529e9412b",
   "metadata": {},
   "outputs": [],
   "source": [
    "----------------------------------------------------------------TUPLE----------------------------------------------------------------------------------"
   ]
  },
  {
   "cell_type": "markdown",
   "id": "660d33c3-8e75-423d-b987-930fcb6d617f",
   "metadata": {},
   "source": [
    "Tuples are used to store multiple items in a single variable.\n",
    "\n",
    "Tuple is one of 4 built-in data types in Python used to store collections of data, the other 3 are List, Set, and Dictionary, all with different qualities and usage.\n",
    "\n",
    "A tuple is a collection which is ordered and unchangeable.\n",
    "\n",
    "Tuples are written with round brackets."
   ]
  },
  {
   "cell_type": "code",
   "execution_count": null,
   "id": "b994f3fa-87e9-4989-8d2c-630f64f9672a",
   "metadata": {},
   "outputs": [],
   "source": [
    "thistuple = (\"apple\", \"banana\", \"cherry\")\n",
    "print(thistuple)"
   ]
  },
  {
   "cell_type": "code",
   "execution_count": null,
   "id": "387ca168-f3f5-411d-826b-89c7b0912bee",
   "metadata": {},
   "outputs": [],
   "source": [
    "#Create Tuple With One Item\n",
    "thistuple = (\"apple\",)\n",
    "print(type(thistuple))\n",
    "\n",
    "#NOT a tuple\n",
    "thistuple = (\"apple\")\n",
    "print(type(thistuple))"
   ]
  },
  {
   "cell_type": "code",
   "execution_count": null,
   "id": "4940f6bb-bbe7-4432-a35c-9a5f51913788",
   "metadata": {},
   "outputs": [],
   "source": [
    "#Tuple Items - Data Types\n",
    "tuple1 = (\"apple\", \"banana\", \"cherry\")\n",
    "tuple2 = (1, 5, 7, 9, 3)\n",
    "tuple3 = (True, False, False)"
   ]
  },
  {
   "cell_type": "code",
   "execution_count": null,
   "id": "5c4c4486-1994-4b72-ae7c-d59c3461793b",
   "metadata": {},
   "outputs": [],
   "source": [
    "mytuple = (\"apple\", \"banana\", \"cherry\")\n",
    "print(type(mytuple))"
   ]
  },
  {
   "cell_type": "code",
   "execution_count": null,
   "id": "c2ee0d32-0f7e-4926-b899-7e77b3e80bbb",
   "metadata": {},
   "outputs": [],
   "source": [
    "#Allow Duplicates\n",
    "#Since tuples are indexed, they can have items with the same value:\n",
    "thistuple = (\"apple\", \"banana\", \"cherry\", \"apple\", \"cherry\")\n",
    "print(thistuple)"
   ]
  },
  {
   "cell_type": "code",
   "execution_count": null,
   "id": "8d968c24-e786-4d5a-95d2-cc219b8fe285",
   "metadata": {},
   "outputs": [],
   "source": [
    "#UPDATING TUPLE\n",
    "x = (\"apple\", \"banana\", \"cherry\")\n",
    "y = list(x)\n",
    "y[1] = \"kiwi\"\n",
    "x = tuple(y)\n",
    "\n",
    "print(x)"
   ]
  },
  {
   "cell_type": "code",
   "execution_count": null,
   "id": "0b9840e5-ed68-4a14-be41-154a15291b35",
   "metadata": {},
   "outputs": [],
   "source": [
    "#REMOVING ITEMS FROM TUPLE\n",
    "thistuple = (\"apple\", \"banana\", \"cherry\")\n",
    "y = list(thistuple)\n",
    "y.remove(\"apple\")\n",
    "thistuple = tuple(y)"
   ]
  },
  {
   "cell_type": "markdown",
   "id": "30f9e4c9-b5d5-4104-8630-73c3770edd7b",
   "metadata": {},
   "source": [
    "--------------------------------------------------------------Python Functions---------------------------------------------------------------------------"
   ]
  },
  {
   "cell_type": "code",
   "execution_count": null,
   "id": "6e2ee8ac-a388-4e9d-ba4c-fc808444b83a",
   "metadata": {},
   "outputs": [],
   "source": []
  },
  {
   "cell_type": "code",
   "execution_count": null,
   "id": "bb10dd00-7e58-430b-bfb4-ab3db6ac1b4b",
   "metadata": {},
   "outputs": [],
   "source": []
  },
  {
   "cell_type": "code",
   "execution_count": null,
   "id": "5a7fb584-e87b-4445-808f-641e7b9f8489",
   "metadata": {},
   "outputs": [],
   "source": []
  },
  {
   "cell_type": "code",
   "execution_count": null,
   "id": "6fe766f4-9051-4740-98ad-80c4c9d874a7",
   "metadata": {},
   "outputs": [],
   "source": []
  },
  {
   "cell_type": "code",
   "execution_count": null,
   "id": "27ea2fac-16cb-481c-a203-6eb8da3e9ddb",
   "metadata": {},
   "outputs": [],
   "source": []
  },
  {
   "cell_type": "code",
   "execution_count": null,
   "id": "18f70470-73a8-4f04-988e-1e77148f5573",
   "metadata": {},
   "outputs": [],
   "source": []
  },
  {
   "cell_type": "code",
   "execution_count": null,
   "id": "960dcc51-2bd7-40a2-bf3c-6d89709ae40c",
   "metadata": {},
   "outputs": [],
   "source": [
    "------------------------------------------------------------------FILES----------------------------------------------------------------------------------"
   ]
  },
  {
   "cell_type": "code",
   "execution_count": null,
   "id": "10d10bd6-30f2-4aa6-aa07-2d6acd049f26",
   "metadata": {},
   "outputs": [],
   "source": [
    "BUILT IN FUNCTIONS IN FILES"
   ]
  },
  {
   "cell_type": "raw",
   "id": "1b43d81b-29de-471c-adc3-efe05dea8633",
   "metadata": {},
   "source": [
    "close()\tCloses the file\n",
    "detach()\tReturns the separated raw stream from the buffer\n",
    "fileno()\tReturns a number that represents the stream, from the operating system's perspective\n",
    "flush()\tFlushes the internal buffer\n",
    "isatty()\tReturns whether the file stream is interactive or not\n",
    "read()\tReturns the file content\n",
    "readable()\tReturns whether the file stream can be read or not\n",
    "readline()\tReturns one line from the file\n",
    "readlines()\tReturns a list of lines from the file\n",
    "seek()\tChange the file position\n",
    "seekable()\tReturns whether the file allows us to change the file position\n",
    "tell()\tReturns the current file position\n",
    "truncate()\tResizes the file to a specified size\n",
    "writable()\tReturns whether the file can be written to or not\n",
    "write()\tWrites the specified string to the file\n",
    "writelines()\tWrites a list of strings to the file"
   ]
  },
  {
   "cell_type": "raw",
   "id": "f5fb7a90-1ef8-45a5-ade5-052fbd6102b7",
   "metadata": {},
   "source": [
    "File Handling\n",
    "The key function for working with files in Python is the open() function.\n",
    "\n",
    "The open() function takes two parameters; filename, and mode.\n",
    "\n",
    "There are four different methods (modes) for opening a file:\n",
    "\n",
    "\"r\" - Read - Default value. Opens a file for reading, error if the file does not exist\n",
    "\n",
    "\"a\" - Append - Opens a file for appending, creates the file if it does not exist\n",
    "\n",
    "\"w\" - Write - Opens a file for writing, creates the file if it does not exist\n",
    "\n",
    "\"x\" - Create - Creates the specified file, returns an error if the file exists\n",
    "\n",
    "In addition you can specify if the file should be handled as binary or text mode\n",
    "\n",
    "\"t\" - Text - Default value. Text mode\n",
    "\n",
    "\"b\" - Binary - Binary mode (e.g. images)"
   ]
  },
  {
   "cell_type": "raw",
   "id": "adde0076-2616-4f50-97f8-7eda545fea08",
   "metadata": {},
   "source": [
    "Syntax\n",
    "To open a file for reading it is enough to specify the name of the file:\n",
    "\n",
    "f = open(\"demofile.txt\")\n",
    "The code above is the same as:\n",
    "\n",
    "f = open(\"demofile.txt\", \"rt\")"
   ]
  },
  {
   "cell_type": "raw",
   "id": "95a56c1f-41fa-4330-8ca1-334d30e0f32a",
   "metadata": {},
   "source": [
    "To open the file, use the built-in open() function.\n",
    "\n",
    "The open() function returns a file object, which has a read() method for reading the content of the file:\n",
    "\n",
    "ExampleGet your own Python Server\n",
    "f = open(\"demofile.txt\", \"r\")\n",
    "print(f.read())\n",
    "If the file is located in a different location, you will have to specify the file path, like this:\n",
    "\n",
    "Example\n",
    "Open a file on a different location:\n",
    "\n",
    "f = open(\"D:\\\\myfiles\\welcome.txt\", \"r\")\n",
    "print(f.read())\n",
    "Read Only Parts of the File\n",
    "By default the read() method returns the whole text, but you can also specify how many characters you want to return:\n",
    "\n",
    "Example\n",
    "Return the 5 first characters of the file:\n",
    "\n",
    "f = open(\"demofile.txt\", \"r\")\n",
    "print(f.read(5))\n",
    "Read Lines\n",
    "You can return one line by using the readline() method:\n",
    "\n",
    "Example\n",
    "Read one line of the file:\n",
    "\n",
    "f = open(\"demofile.txt\", \"r\")\n",
    "print(f.readline())\n",
    "By calling readline() two times, you can read the two first lines:\n",
    "\n",
    "Example\n",
    "Read two lines of the file:\n",
    "\n",
    "f = open(\"demofile.txt\", \"r\")\n",
    "print(f.readline())\n",
    "print(f.readline())\n",
    "By looping through the lines of the file, you can read the whole file, line by line:\n",
    "\n",
    "Example\n",
    "Loop through the file line by line:\n",
    "\n",
    "f = open(\"demofile.txt\", \"r\")\n",
    "for x in f:\n",
    "  print(x)\n",
    "Close Files\n",
    "It is a good practice to always close the file when you are done with it.\n",
    "\n",
    "Example\n",
    "Close the file when you are finish with it:\n",
    "\n",
    "f = open(\"demofile.txt\", \"r\")\n",
    "print(f.readline())\n",
    "f.close()"
   ]
  },
  {
   "cell_type": "raw",
   "id": "3760f74e-8fd0-462e-b7a3-f888ecad0bdf",
   "metadata": {},
   "source": [
    "Write to an Existing File\n",
    "To write to an existing file, you must add a parameter to the open() function:\n",
    "\n",
    "\"a\" - Append - will append to the end of the file\n",
    "\n",
    "\"w\" - Write - will overwrite any existing content\n",
    "\n",
    "ExampleGet your own Python Server\n",
    "Open the file \"demofile2.txt\" and append content to the file:\n",
    "\n",
    "f = open(\"demofile2.txt\", \"a\")\n",
    "f.write(\"Now the file has more content!\")\n",
    "f.close()\n",
    "\n",
    "#open and read the file after the appending:\n",
    "f = open(\"demofile2.txt\", \"r\")\n",
    "print(f.read())\n",
    "Example\n",
    "Open the file \"demofile3.txt\" and overwrite the content:\n",
    "\n",
    "f = open(\"demofile3.txt\", \"w\")\n",
    "f.write(\"Woops! I have deleted the content!\")\n",
    "f.close()\n",
    "\n",
    "#open and read the file after the overwriting:\n",
    "f = open(\"demofile3.txt\", \"r\")\n",
    "print(f.read())\n",
    "Note: the \"w\" method will overwrite the entire file.\n",
    "\n",
    "Create a New File\n",
    "To create a new file in Python, use the open() method, with one of the following parameters:\n",
    "\n",
    "\"x\" - Create - will create a file, returns an error if the file exist\n",
    "\n",
    "\"a\" - Append - will create a file if the specified file does not exist\n",
    "\n",
    "\"w\" - Write - will create a file if the specified file does not exist\n",
    "\n",
    "Example\n",
    "Create a file called \"myfile.txt\":\n",
    "\n",
    "f = open(\"myfile.txt\", \"x\")\n",
    "Result: a new empty file is created!\n",
    "\n",
    "Example\n",
    "Create a new file if it does not exist:\n",
    "\n",
    "f = open(\"myfile.txt\", \"w\")"
   ]
  },
  {
   "cell_type": "raw",
   "id": "3c8fb03a-8a67-429c-8d66-0997f1ea21bb",
   "metadata": {},
   "source": [
    "Delete a File\n",
    "To delete a file, you must import the OS module, and run its os.remove() function:\n",
    "\n",
    "ExampleGet your own Python Server\n",
    "Remove the file \"demofile.txt\":\n",
    "\n",
    "import os\n",
    "os.remove(\"demofile.txt\")\n",
    "Check if File exist:\n",
    "To avoid getting an error, you might want to check if the file exists before you try to delete it:\n",
    "\n",
    "Example\n",
    "Check if file exists, then delete it:\n",
    "\n",
    "import os\n",
    "if os.path.exists(\"demofile.txt\"):\n",
    "  os.remove(\"demofile.txt\")\n",
    "else:\n",
    "  print(\"The file does not exist\")\n",
    "Delete Folder\n",
    "To delete an entire folder, use the os.rmdir() method:\n",
    "\n",
    "Example\n",
    "Remove the folder \"myfolder\":\n",
    "\n",
    "import os\n",
    "os.rmdir(\"myfolder\")"
   ]
  }
 ],
 "metadata": {
  "kernelspec": {
   "display_name": "Python 3 (ipykernel)",
   "language": "python",
   "name": "python3"
  },
  "language_info": {
   "codemirror_mode": {
    "name": "ipython",
    "version": 3
   },
   "file_extension": ".py",
   "mimetype": "text/x-python",
   "name": "python",
   "nbconvert_exporter": "python",
   "pygments_lexer": "ipython3",
   "version": "3.12.0"
  }
 },
 "nbformat": 4,
 "nbformat_minor": 5
}
