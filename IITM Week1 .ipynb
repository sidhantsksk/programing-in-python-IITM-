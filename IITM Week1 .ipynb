{
 "cells": [
  {
   "cell_type": "markdown",
   "id": "1609053b-29f7-4a02-af82-e1a0673802eb",
   "metadata": {},
   "source": [
    "# GRPA 1"
   ]
  },
  {
   "cell_type": "code",
   "execution_count": 1,
   "id": "a72c8e60-b4f7-4cd4-8768-82c15e75312b",
   "metadata": {},
   "outputs": [
    {
     "name": "stdin",
     "output_type": "stream",
     "text": [
      " this\n",
      " is\n",
      " a\n",
      " good\n",
      " idea\n"
     ]
    },
    {
     "name": "stdout",
     "output_type": "stream",
     "text": [
      "this is a good idea.\n"
     ]
    }
   ],
   "source": [
    "\n",
    "#Accept five words as input and print the sentence formed by these words after adding a space between consecutive words and a full stop at the end.\n",
    "w1 = input() #place this\n",
    "w2 = input() #place is\n",
    "w3 = input() #place a\n",
    "w4 = input() #place good\n",
    "w5 = input() #place idea\n",
    "w6 = '.'\n",
    "sentence = w1+ ' '+w2+ ' '+ w3 + ' ' + w4 +' '+ w5+ w6\n",
    "print(sentence)"
   ]
  },
  {
   "cell_type": "code",
   "execution_count": 2,
   "id": "7bbec675-de73-4580-92ef-97878478fa5f",
   "metadata": {},
   "outputs": [
    {
     "name": "stdin",
     "output_type": "stream",
     "text": [
      " 25-01-1992\n"
     ]
    },
    {
     "name": "stdout",
     "output_type": "stream",
     "text": [
      "1992\n"
     ]
    }
   ],
   "source": [
    "#Accept the date in DD-MM-YYYY format as input and print the year as output.\n",
    "date = input()       #place 25-01-1992\n",
    "year = date[6:10]\n",
    "print(year)"
   ]
  },
  {
   "cell_type": "code",
   "execution_count": 3,
   "id": "0c66eb20-46e9-490b-abc3-39ac181801be",
   "metadata": {},
   "outputs": [
    {
     "name": "stdin",
     "output_type": "stream",
     "text": [
      " 1,2,3,4,5\n"
     ]
    },
    {
     "name": "stdout",
     "output_type": "stream",
     "text": [
      "120\n"
     ]
    }
   ],
   "source": [
    "#Accept a sequence of five single digit numbers separated by commas as input. Print the product of all five numbers.\n",
    "# Accept input\n",
    "sequence = input()                  #place 1,2,3,4,5\n",
    "\n",
    "# Split the input into a list of individual digits\n",
    "digits = [int(digit) for digit in sequence.split(',')]\n",
    "\n",
    "# Ensure there are exactly five digits\n",
    "if len(digits) == 5:\n",
    "    # Calculate the product of all five numbers\n",
    "    product = 1\n",
    "    for num in digits:\n",
    "        product *= num\n",
    "\n",
    "    # Print the result\n",
    "    print(product)\n",
    "else:\n",
    "    print()\n"
   ]
  },
  {
   "cell_type": "code",
   "execution_count": 4,
   "id": "0e6883df-61df-4ec0-a174-ff633c2177c7",
   "metadata": {},
   "outputs": [
    {
     "name": "stdin",
     "output_type": "stream",
     "text": [
      " MA_MT_24_1948@student.onlinedegree.iitd.ac.in\n"
     ]
    },
    {
     "name": "stdout",
     "output_type": "stream",
     "text": [
      "MA\n",
      "MT\n",
      "24\n",
      "1948\n",
      "iitd\n"
     ]
    }
   ],
   "source": [
    "#Assume that several IITs start offering online degrees across multiple branches. The email-id of a student is defined as follows:\n",
    "#branch_degree_year_roll@student.onlinedegree.institute.ac.in\n",
    "#For example, if the email-id is CS_BT_21_7412@student.onlinedegree.iitm.ac.in, then this student is from the computer science branch, pursuing a BTech degree from IITM, starting from the year 2021, with 7412 as the roll number. branch, degree and year are codes of length two, while roll and institute are codes of length four. Accept a student's email-id as input and print the following details, one item on each line:\n",
    "#                 place input as    CS_BT_21_7412@student.onlinedegree.iitm.ac.in \n",
    "#(1) Branch\n",
    "#(2) Degree\n",
    "#(3) Year\n",
    "#(4) Roll number\n",
    "#(5) Institute\n",
    "\n",
    "email = input()\n",
    "branch = email[0:2]\n",
    "degree = email[3:5]\n",
    "year = email[6:8]\n",
    "roll_number = email[9:13]  \n",
    "institute = email[-10:-6]\n",
    "print(branch)\n",
    "print(degree)\n",
    "print(year)\n",
    "print(roll_number)\n",
    "print(institute)\n"
   ]
  },
  {
   "cell_type": "code",
   "execution_count": 5,
   "id": "b4b47cda-5b7e-4b03-bf6c-53bd6d7ac1ed",
   "metadata": {},
   "outputs": [
    {
     "name": "stdin",
     "output_type": "stream",
     "text": [
      " 3\n",
      " 5\n"
     ]
    },
    {
     "name": "stdout",
     "output_type": "stream",
     "text": [
      "3\n"
     ]
    }
   ],
   "source": [
    "#Accept two positive integers x and y as input. Print the number of digits in xy. You should be able to solve this problem using the concepts covered in week-1.\n",
    "\n",
    "\n",
    "# Get input from the user\n",
    "x = int(input())           #place 3\n",
    "y = int(input())           #place 5\n",
    "\n",
    "# Calculate xy\n",
    "result = x ** y\n",
    "\n",
    "# Convert the result to a string and get the length\n",
    "num_digits = len(str(result))\n",
    "\n",
    "# Print the result\n",
    "print(num_digits)\n"
   ]
  },
  {
   "cell_type": "code",
   "execution_count": 6,
   "id": "23d7fed8-1e11-4c2b-a9b9-c41021187d8f",
   "metadata": {},
   "outputs": [
    {
     "name": "stdin",
     "output_type": "stream",
     "text": [
      " 5\n",
      " 2\n"
     ]
    },
    {
     "name": "stdout",
     "output_type": "stream",
     "text": [
      "1\n"
     ]
    }
   ],
   "source": [
    "#Accept two positive integers M and N as input. There are two cases to consider:\n",
    "\n",
    "#(1) If M < N, then print M as output.\n",
    "\n",
    "# (2) If M >= N, subtract N from M. Call the difference M1. If M1 >= N, then subtract N from M1 and call the difference M2. Keep doing this operation until you reach a value k, such that, Mk < N. You have to print the value of Mk as output. You should be able to solve this problem using the concepts covered in week-1\n",
    "\n",
    "\n",
    "# Get input from the user\n",
    "M = int(input())          #place 5\n",
    "N = int(input())          #place 2\n",
    "\n",
    "# Check the two cases\n",
    "if M < N:\n",
    "    result = M\n",
    "else:\n",
    "    while M >= N:\n",
    "        M -= N\n",
    "\n",
    "    result = M\n",
    "\n",
    "# Print the result\n",
    "print(result)\n"
   ]
  },
  {
   "cell_type": "markdown",
   "id": "9bc978bb-96fc-419d-82da-d973c652153b",
   "metadata": {},
   "source": [
    "# PPA1"
   ]
  },
  {
   "cell_type": "code",
   "execution_count": null,
   "id": "4e632fce-0f4d-494c-9351-0b7c97063e7d",
   "metadata": {},
   "outputs": [],
   "source": [
    "# Print the first 5 positive integers in ascending order with one number in each line.\n",
    "i=0\n",
    "while(i<5):\n",
    "    i=i+1\n",
    "    print(i)"
   ]
  },
  {
   "cell_type": "code",
   "execution_count": 8,
   "id": "c49d2507-d555-4dee-a2e9-aa1b094fa05b",
   "metadata": {},
   "outputs": [
    {
     "data": {
      "text/plain": [
       "'\\nPrint the following pattern.\\n*\\n**\\n***\\n****\\n***** \\n'"
      ]
     },
     "execution_count": 8,
     "metadata": {},
     "output_type": "execute_result"
    }
   ],
   "source": [
    "#Print the following pattern.\n",
    "#           *\n",
    "#           **\n",
    "#           ***\n",
    "#           ****\n",
    "#           *****\n",
    "\n",
    "print('*')\n",
    "print('**')\n",
    "print('***')\n",
    "print('****')\n",
    "print('*****')"
   ]
  },
  {
   "cell_type": "code",
   "execution_count": null,
   "id": "b4153ae6-d5ce-4f64-80cb-20bde732e57f",
   "metadata": {},
   "outputs": [],
   "source": [
    "#Accept an integer as input and print its square as output.\n",
    "\n",
    "n = int(input())         #place 10\n",
    "square = n*n\n",
    "print(square)"
   ]
  },
  {
   "cell_type": "code",
   "execution_count": null,
   "id": "6264ee4e-69b6-4777-aabb-2cba720d176e",
   "metadata": {},
   "outputs": [],
   "source": [
    "#Accept two integers as input and print their sum as output.\n",
    "\n",
    "a=int(input())         #place  1\n",
    "b=int(input())         #place  2\n",
    "print(a+b)"
   ]
  },
  {
   "cell_type": "code",
   "execution_count": null,
   "id": "8f4eb37e-c904-4a70-8b73-6bd37c811ff6",
   "metadata": {},
   "outputs": [],
   "source": [
    "#Accept two words as input and print the two words after adding a space between them.\n",
    "\n",
    "a=input()   #place  hello\n",
    "b=input()   #place  world\n",
    "result=a+' '+b\n",
    "print(result)"
   ]
  },
  {
   "cell_type": "code",
   "execution_count": null,
   "id": "1dcfb327-26eb-4f10-8a61-1c3db38107db",
   "metadata": {},
   "outputs": [],
   "source": [
    "#Accept the registration number of a vehicle as input and print its state-code as output.\n",
    "\n",
    "registration_number = input()   #place   TN-10-AB-2010\n",
    "state_code = registration_number[0:2]\n",
    "print(state_code)"
   ]
  },
  {
   "cell_type": "code",
   "execution_count": null,
   "id": "ad4d6000-1475-4598-9459-9dbca1e78169",
   "metadata": {},
   "outputs": [],
   "source": [
    "#A simple algorithm has to be designed to find out whether a student belongs to the Data Science branch or not. The input will be a student's roll number, which is of the form BR18B0000. Here, BR represents the branch code, \n",
    "#18 represents the year of joining, B represents the education level and \n",
    "#0000 represents the specific identification given to the student of that batch. The branch code for Data Science is DS. Print True if the student belongs to Data Science branch and False otherwise.\n",
    "\n",
    "a=input()  #place    DS18M0001\n",
    "b=a[0:2]\n",
    "if b==(\"DS\"):\n",
    "    print(\"True\")\n",
    "else:\n",
    "    print(\"False\")"
   ]
  },
  {
   "cell_type": "code",
   "execution_count": null,
   "id": "bc5b1efc-8bcf-4149-a601-d470055dd0cb",
   "metadata": {},
   "outputs": [],
   "source": [
    "#The police are trying to track a criminal based on the evidence available at a crime site. Their main clue is a vehicle's damaged number plate. Only the string TN07 is visible. The format of the registration number is AA00AA00, where the first two letters are alphabets, next two are numbers, next two are again alphabets followed by two numbers at the end. A number plate is picked from a database of registration numbers and is given to you as input. Your task is to determine if this could belong to the criminal or not. Print True if the number plate contains TN07 and False otherwise.\n",
    "n=input()  #place TN07TN01\n",
    "a=n[0:3]\n",
    "b=n[4:8]\n",
    "if a==(\"TN07\"):\n",
    "    print(\"True\")\n",
    "elif b==(\"TN07\"):\n",
    "    print(\"True\")\n",
    "else:\n",
    "    print(\"False\")"
   ]
  },
  {
   "cell_type": "code",
   "execution_count": null,
   "id": "0fdae3ee-0bd2-42a7-82c1-7af2498ec97e",
   "metadata": {},
   "outputs": [],
   "source": [
    "#Accept two integers \n",
    "# a and b as input and print the absolute difference of both the numbers. For example, if \n",
    "# a=9 , b=8 then the absolute difference is 9−8=1. So, your output should be 1. You should be able to solve this problem using the concepts covered in this week.\n",
    "\n",
    "# Accept input\n",
    "a = int(input())     #place  9\n",
    "b = int(input())     #place 10\n",
    "\n",
    "# Calculate the absolute difference\n",
    "absolute_difference = abs(a - b)\n",
    "\n",
    "# Print the result\n",
    "print(absolute_difference)\n"
   ]
  },
  {
   "cell_type": "code",
   "execution_count": null,
   "id": "5e032d9a-8354-4210-877d-f2da2e98682d",
   "metadata": {},
   "outputs": [],
   "source": [
    "#continud fraction\n",
    "#                      x+(1/x+(1/x+(1/x+(1/x+(1/x))))\n",
    "x = int(input())  #place 2 or 3 here\n",
    "m = x + (1 / x)\n",
    "a = x + 1 / m\n",
    "b = x + 1 / a\n",
    "c = x + 1 / b\n",
    "d = x + 1 / c\n",
    "e = float(d)\n",
    "cfrac = round(e, 2)\n",
    "print(cfrac)"
   ]
  },
  {
   "cell_type": "code",
   "execution_count": null,
   "id": "2782073e-2ac7-406e-922b-28861013420e",
   "metadata": {},
   "outputs": [],
   "source": [
    "#You are given a string and two non-negative integers as input. The two integers specify the start and end indices of a substring in the given string. Create a new string by replicating the substring a minimum number of times so that the resulting string is longer than the input string.\n",
    "\n",
    "#The input parameters are the string, start index of the substring and the end index of substring (endpoints inclusive) each on a different line.\n",
    "#example\n",
    "\n",
    "word = input()                         #place python          output=ppppppp\n",
    "start = int(input())                   #place 0\n",
    "end = int(input())                     #place 0\n",
    "\n",
    "\n",
    "sub_str = word[start:end+1]\n",
    "\n",
    "replicated_string = \"\"\n",
    "while len(replicated_string) <= len(word):\n",
    "    replicated_string += sub_str\n",
    "\n",
    "print(replicated_string)\n"
   ]
  },
  {
   "cell_type": "code",
   "execution_count": null,
   "id": "c0910fe6-4329-48d1-8050-9090cff73051",
   "metadata": {},
   "outputs": [],
   "source": [
    "#Print the following pattern. There is exactly one space between any two consecutive numbers on any line. There are no spaces at the end of any line.\n",
    "#1 2 1\n",
    "#1 2 3 2 1\n",
    "#1 2 3 4 3 2 1\n",
    "#1 2 3 4 5 4 3 2 1\n",
    "\n",
    "\n",
    "rows = 4\n",
    "\n",
    "for i in range(1, rows + 1):\n",
    "    # Print the increasing sequence\n",
    "    for j in range(1, i + 1):\n",
    "        print(j, end=\" \")\n",
    "\n",
    "    # Print the decreasing sequence\n",
    "    for j in range(i - 1, 0, -1):\n",
    "        print(j, end=\" \")\n",
    "\n",
    "    # Move to the next line for the next row\n",
    "    print()\n",
    "\n"
   ]
  }
 ],
 "metadata": {
  "kernelspec": {
   "display_name": "Python 3 (ipykernel)",
   "language": "python",
   "name": "python3"
  },
  "language_info": {
   "codemirror_mode": {
    "name": "ipython",
    "version": 3
   },
   "file_extension": ".py",
   "mimetype": "text/x-python",
   "name": "python",
   "nbconvert_exporter": "python",
   "pygments_lexer": "ipython3",
   "version": "3.12.0"
  }
 },
 "nbformat": 4,
 "nbformat_minor": 5
}
